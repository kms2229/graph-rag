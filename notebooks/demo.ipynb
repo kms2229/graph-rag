{
 "cells": [
  {
   "cell_type": "markdown",
   "metadata": {},
   "source": [
    "# Knowledge Graph RAG System Demo\n",
    "\n",
    "This notebook demonstrates how to use the knowledge graph RAG system to build a knowledge graph from text documents and query it."
   ]
  },
  {
   "cell_type": "code",
   "execution_count": null,
   "metadata": {},
   "source": [
    "import os\n",
    "import sys\n",
    "import pandas as pd\n",
    "from dotenv import load_dotenv\n",
    "import matplotlib.pyplot as plt\n",
    "from pyvis.network import Network\n",
    "\n",
    "# Add project root to path\n",
    "sys.path.append('..')\n",
    "\n",
    "# Load environment variables\n",
    "load_dotenv()\n",
    "\n",
    "# Import project modules\n",
    "from src.data.ingestion import DocumentProcessor, KnowledgeGraphBuilder\n",
    "from src.graph.database import Neo4jDatabase\n",
    "from src.utils.embeddings import EmbeddingGenerator\n",
    "from src.rag.query_engine import GraphRAGQueryEngine"
   ]
  },
  {
   "cell_type": "markdown",
   "metadata": {},
   "source": [
    "## 1. Create Sample Documents\n",
    "\n",
    "First, let's create some sample documents to build our knowledge graph."
   ]
  },
  {
   "cell_type": "code",
   "execution_count": null,
   "metadata": {},
   "source": [
    "# Create a data directory if it doesn't exist\n",
    "os.makedirs('../data/sample', exist_ok=True)\n",
    "\n",
    "# Sample documents about AI and machine learning\n",
    "doc1 = \"\"\"\n",
    "Artificial Intelligence (AI) is revolutionizing industries across the globe. \n",
    "Machine learning, a subset of AI, enables computers to learn from data and improve over time. \n",
    "Deep learning, a specialized form of machine learning, uses neural networks with many layers.\n",
    "Companies like Google, Microsoft, and OpenAI are leading the development of advanced AI systems.\n",
    "Google's DeepMind created AlphaGo, which defeated the world champion in the game of Go.\n",
    "\"\"\"\n",
    "\n",
    "doc2 = \"\"\"\n",
    "Natural Language Processing (NLP) is a field of AI focused on enabling computers to understand human language.\n",
    "Large Language Models (LLMs) like GPT-4 developed by OpenAI have shown remarkable abilities in text generation.\n",
    "These models are trained on vast amounts of text data from the internet and books.\n",
    "Microsoft has integrated GPT models into their Bing search engine and other products.\n",
    "NLP applications include machine translation, sentiment analysis, and question answering systems.\n",
    "\"\"\"\n",
    "\n",
    "doc3 = \"\"\"\n",
    "Knowledge graphs represent information as a network of entities and their relationships.\n",
    "Google uses a knowledge graph to enhance its search results with structured information.\n",
    "Neo4j is a popular graph database used to store and query knowledge graphs.\n",
    "Graph neural networks (GNNs) can learn from graph-structured data for tasks like recommendation systems.\n",
    "Retrieval-Augmented Generation (RAG) combines knowledge graphs with language models for more accurate responses.\n",
    "\"\"\"\n",
    "\n",
    "# Write documents to files\n",
    "with open('../data/sample/ai_overview.txt', 'w') as f:\n",
    "    f.write(doc1)\n",
    "    \n",
    "with open('../data/sample/nlp.txt', 'w') as f:\n",
    "    f.write(doc2)\n",
    "    \n",
    "with open('../data/sample/knowledge_graphs.txt', 'w') as f:\n",
    "    f.write(doc3)\n",
    "    \n",
    "print(\"Sample documents created in ../data/sample/\")"
   ]
  },
  {
   "cell_type": "markdown",
   "metadata": {},
   "source": [
    "## 2. Process Documents and Build Knowledge Graph\n",
    "\n",
    "Now let's process these documents to extract entities and relationships."
   ]
  },
  {
   "cell_type": "code",
   "execution_count": null,
   "metadata": {},
   "source": [
    "# Initialize document processor\n",
    "processor = DocumentProcessor()\n",
    "\n",
    "# Process documents\n",
    "results = processor.process_directory('../data/sample')\n",
    "\n",
    "# Build knowledge graph\n",
    "kg_builder = KnowledgeGraphBuilder()\n",
    "for result in results:\n",
    "    kg_builder.add_processed_data(result)\n",
    "\n",
    "# Get entities and relationships\n",
    "entities_df = kg_builder.get_unique_entities()\n",
    "relationships_df = kg_builder.get_relationships_df()\n",
    "\n",
    "print(f\"Extracted {len(entities_df)} unique entities and {len(relationships_df)} relationships\")\n",
    "\n",
    "# Display sample entities\n",
    "print(\"\\nSample entities:\")\n",
    "display(entities_df.head())\n",
    "\n",
    "# Display sample relationships\n",
    "print(\"\\nSample relationships:\")\n",
    "display(relationships_df.head())"
   ]
  },
  {
   "cell_type": "markdown",
   "metadata": {},
   "source": [
    "## 3. Generate Embeddings for Entities\n",
    "\n",
    "Let's generate vector embeddings for our entities to enable semantic search."
   ]
  },
  {
   "cell_type": "code",
   "execution_count": null,
   "metadata": {},
   "source": [
    "# Initialize embedding generator\n",
    "embedding_generator = EmbeddingGenerator()\n",
    "\n",
    "# Generate embeddings\n",
    "entities_with_embeddings = embedding_generator.generate_entity_embeddings(entities_df)\n",
    "\n",
    "# Display sample with embeddings\n",
    "print(f\"Generated embeddings with {len(entities_with_embeddings.iloc[0]['embedding'])} dimensions\")\n",
    "display(entities_with_embeddings.head())"
   ]
  },
  {
   "cell_type": "markdown",
   "metadata": {},
   "source": [
    "## 4. Visualize the Knowledge Graph\n",
    "\n",
    "Let's create a simple visualization of our knowledge graph using PyVis."
   ]
  },
  {
   "cell_type": "code",
   "execution_count": null,
   "metadata": {},
   "source": [
    "# Create a network graph\n",
    "net = Network(height=\"750px\", width=\"100%\", notebook=True, directed=True)\n",
    "\n",
    "# Add nodes\n",
    "entity_types = entities_df['label'].unique()\n",
    "colors = plt.cm.rainbow(np.linspace(0, 1, len(entity_types)))\n",
    "color_map = {entity_type: f'#{int(r*255):02x}{int(g*255):02x}{int(b*255):02x}' \n",
    "             for entity_type, (r, g, b, _) in zip(entity_types, colors)}\n",
    "\n",
    "for _, row in entities_df.iterrows():\n",
    "    net.add_node(row['entity_id'], label=row['text'], title=f\"Type: {row['label']}\", \n",
    "                 color=color_map.get(row['label'], '#CCCCCC'))\n",
    "\n",
    "# Add edges\n",
    "for _, row in relationships_df.iterrows():\n",
    "    if row['source'].lower() in net.node_ids and row['target'].lower() in net.node_ids:\n",
    "        net.add_edge(row['source'].lower(), row['target'].lower(), title=row['relation'])\n",
    "\n",
    "# Display the graph\n",
    "net.show_buttons(filter_=['physics'])\n",
    "net.show('knowledge_graph.html')"
   ]
  },
  {
   "cell_type": "markdown",
   "metadata": {},
   "source": [
    "## 5. Export to Neo4j\n",
    "\n",
    "Now let's export our knowledge graph to Neo4j. Make sure Neo4j is running and your connection details are in the `.env` file."
   ]
  },
  {
   "cell_type": "code",
   "execution_count": null,
   "metadata": {},
   "source": [
    "# Export entities and relationships to CSV\n",
    "os.makedirs('../data/output', exist_ok=True)\n",
    "entities_path = '../data/output/entities.csv'\n",
    "relationships_path = '../data/output/relationships.csv'\n",
    "embeddings_path = '../data/output/entities_with_embeddings.csv'\n",
    "\n",
    "entities_df.to_csv(entities_path, index=False)\n",
    "relationships_df.to_csv(relationships_path, index=False)\n",
    "entities_with_embeddings.to_csv(embeddings_path, index=False)\n",
    "\n",
    "print(f\"Exported data to {entities_path} and {relationships_path}\")"
   ]
  },
  {
   "cell_type": "code",
   "execution_count": null,
   "metadata": {},
   "source": [
    "# Initialize Neo4j database\n",
    "try:\n",
    "    db = Neo4jDatabase()\n",
    "    db.connect()\n",
    "    print(\"Connected to Neo4j successfully\")\n",
    "    \n",
    "    # Create constraints\n",
    "    db.create_constraints()\n",
    "    \n",
    "    # Clear existing data\n",
    "    db.clear_database()\n",
    "    \n",
    "    # Import data\n",
    "    db.import_knowledge_graph(entities_path, relationships_path)\n",
    "    print(\"Knowledge graph imported to Neo4j successfully\")\n",
    "except Exception as e:\n",
    "    print(f\"Error connecting to Neo4j: {e}\")\n",
    "    print(\"Make sure Neo4j is running and your connection details are in the .env file\")\n",
    "finally:\n",
    "    if 'db' in locals() and db.driver:\n",
    "        db.close()"
   ]
  },
  {
   "cell_type": "markdown",
   "metadata": {},
   "source": [
    "## 6. Query the Knowledge Graph\n",
    "\n",
    "Now let's use our Graph RAG query engine to answer questions using the knowledge graph."
   ]
  },
  {
   "cell_type": "code",
   "execution_count": null,
   "metadata": {},
   "source": [
    "# Initialize Neo4j database and query engine\n",
    "try:\n",
    "    db = Neo4jDatabase()\n",
    "    db.connect()\n",
    "    \n",
    "    # Initialize query engine\n",
    "    query_engine = GraphRAGQueryEngine(db)\n",
    "    \n",
    "    # Sample queries\n",
    "    queries = [\n",
    "        \"What is the relationship between OpenAI and Microsoft?\",\n",
    "        \"How are knowledge graphs used in search engines?\",\n",
    "        \"What are the applications of NLP?\"\n",
    "    ]\n",
    "    \n",
    "    for query in queries:\n",
    "        print(f\"\\nQuery: {query}\")\n",
    "        try:\n",
    "            result = query_engine.query(query)\n",
    "            print(\"\\nAnswer:\")\n",
    "            print(result[\"answer\"])\n",
    "            \n",
    "            print(\"\\nRelevant entities:\")\n",
    "            for entity in result[\"context\"][\"relevant_entities\"]:\n",
    "                print(f\"- {entity['text']} ({entity['label']}): {entity['similarity']:.4f}\")\n",
    "        except Exception as e:\n",
    "            print(f\"Error processing query: {e}\")\n",
    "except Exception as e:\n",
    "    print(f\"Error connecting to Neo4j: {e}\")\n",
    "finally:\n",
    "    if 'db' in locals() and db.driver:\n",
    "        db.close()"
   ]
  },
  {
   "cell_type": "markdown",
   "metadata": {},
   "source": [
    "## 7. Conclusion\n",
    "\n",
    "In this notebook, we've demonstrated how to:\n",
    "\n",
    "1. Process text documents to extract entities and relationships\n",
    "2. Build a knowledge graph from the extracted information\n",
    "3. Generate embeddings for semantic search\n",
    "4. Visualize the knowledge graph\n",
    "5. Import the knowledge graph into Neo4j\n",
    "6. Query the knowledge graph using a RAG approach\n",
    "\n",
    "This approach combines the structured information in knowledge graphs with the power of language models for more accurate and contextual responses."
   ]
  }
 ],
 "metadata": {
  "kernelspec": {
   "display_name": "Python 3",
   "language": "python",
   "name": "python3"
  },
  "language_info": {
   "codemirror_mode": {
    "name": "ipython",
    "version": 3
   },
   "file_extension": ".py",
   "mimetype": "text/x-python",
   "name": "python",
   "nbconvert_exporter": "python",
   "pygments_lexer": "ipython3",
   "version": "3.9.6"
  }
 },
 "nbformat": 4,
 "nbformat_minor": 4
}
